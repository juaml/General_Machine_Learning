{
 "cells": [
  {
   "cell_type": "markdown",
   "id": "c2cc178b",
   "metadata": {},
   "source": [
    "# Separate the 2 sec trial in small windows and then separate on train and test"
   ]
  },
  {
   "cell_type": "markdown",
   "id": "78d1837c",
   "metadata": {},
   "source": []
  }
 ],
 "metadata": {
  "language_info": {
   "name": "python"
  }
 },
 "nbformat": 4,
 "nbformat_minor": 5
}
