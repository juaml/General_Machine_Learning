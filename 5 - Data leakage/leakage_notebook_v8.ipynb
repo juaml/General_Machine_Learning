{
 "cells": [
  {
   "cell_type": "markdown",
   "id": "bbbbb10f",
   "metadata": {},
   "source": [
    "# Leakage exploration"
   ]
  },
  {
   "cell_type": "code",
   "execution_count": null,
   "id": "f65b5cdc",
   "metadata": {},
   "outputs": [],
   "source": [
    "# Import modules\n",
    "import numpy as np\n",
    "import pandas as pd\n",
    "from sklearn.feature_selection import SelectKBest, f_classif\n",
    "from sklearn.preprocessing import StandardScaler\n",
    "from sklearn.linear_model import RidgeClassifierCV\n",
    "from sklearn.model_selection import StratifiedKFold\n",
    "from sklearn.pipeline import Pipeline\n",
    "from sklearn.metrics import accuracy_score\n",
    "from sklearn.datasets import load_iris\n",
    "from sklearn.tree import DecisionTreeClassifier\n",
    "from sklearn.model_selection import train_test_split\n"
   ]
  },
  {
   "cell_type": "code",
   "execution_count": null,
   "id": "601588fc",
   "metadata": {},
   "outputs": [],
   "source": [
    "# Set parameters\n",
    "random_state = 50\n",
    "test_size = 0.3\n",
    "\n",
    "# Load Iris dataset\n",
    "iris = load_iris()\n",
    "\n",
    "# Select features and target\n",
    "X = iris.data\n",
    "y = iris.target\n",
    "feature_names = iris.feature_names\n",
    "\n",
    "# Split the data\n",
    "X_train, X_test, y_train, y_test = train_test_split(X, y, test_size=test_size, shuffle=True, random_state=random_state)"
   ]
  },
  {
   "cell_type": "code",
   "execution_count": 6,
   "id": "07149055",
   "metadata": {},
   "outputs": [
    {
     "name": "stdout",
     "output_type": "stream",
     "text": [
      "X shape (150, 4)\n",
      "y shape (150,)\n",
      "X_train shape (105, 4)\n",
      "X_test shape (45, 4)\n",
      "y_train shape (105,)\n",
      "y_test shape (45,)\n"
     ]
    }
   ],
   "source": [
    "# Check size of data\n",
    "print(\"X shape\", X.shape)\n",
    "print(\"y shape\", y.shape)\n",
    "print(\"X_train shape\", X_train.shape)\n",
    "print(\"X_test shape\", X_test.shape)\n",
    "print(\"y_train shape\", y_train.shape)\n",
    "print(\"y_test shape\", y_test.shape)\n",
    "\n"
   ]
  },
  {
   "cell_type": "markdown",
   "id": "87fcc305",
   "metadata": {},
   "source": [
    "#  Leakage example 1:\n",
    "### Train on whole data:"
   ]
  },
  {
   "cell_type": "code",
   "execution_count": 7,
   "id": "91d5d666",
   "metadata": {},
   "outputs": [
    {
     "name": "stdout",
     "output_type": "stream",
     "text": [
      "Raw Data - Train accuracy: 1.0\n",
      "Raw Data - Test accuracy: 1.0\n"
     ]
    }
   ],
   "source": [
    "# Train our model on the whole data (Fig. 2 in Sasse et al., 2025)\n",
    "dt_raw_lkg1 = DecisionTreeClassifier(max_depth=10, random_state=random_state)\n",
    "dt_raw_lkg1.fit(X, y)\n",
    "\n",
    "print(\"Raw Data - Train accuracy:\", dt_raw_lkg1.score(X, y))\n",
    "print(\"Raw Data - Test accuracy:\", dt_raw_lkg1.score(X_test, y_test))\n"
   ]
  },
  {
   "cell_type": "markdown",
   "id": "e466d8c2",
   "metadata": {},
   "source": [
    "### Correct procedure:"
   ]
  },
  {
   "cell_type": "code",
   "execution_count": 8,
   "id": "c417001c",
   "metadata": {},
   "outputs": [
    {
     "name": "stdout",
     "output_type": "stream",
     "text": [
      "Raw Data - Train accuracy: 1.0\n",
      "Raw Data - Test accuracy: 0.9555555555555556\n"
     ]
    }
   ],
   "source": [
    "# Train our model on the train set and test on the test set\n",
    "dt_raw = DecisionTreeClassifier(max_depth=10, random_state=random_state)\n",
    "dt_raw.fit(X_train, y_train)\n",
    "\n",
    "print(\"Raw Data - Train accuracy:\", dt_raw.score(X_train, y_train))\n",
    "print(\"Raw Data - Test accuracy:\", dt_raw.score(X_test, y_test))"
   ]
  },
  {
   "cell_type": "markdown",
   "id": "f089d942",
   "metadata": {},
   "source": [
    "When the model was trained in train set and tested on test set the test performance dropped.\n",
    "When the model was trained in the whole dataset it performed well in both, train and test datasets. \n",
    "This is because the model learned patterns of the test set during training."
   ]
  },
  {
   "cell_type": "markdown",
   "id": "92059b32",
   "metadata": {},
   "source": [
    "# Leakage example 2:\n",
    "### Feature selection on whole dataset:\n",
    "\n",
    "The dataset used in this example corresponds to the AOMIC dataset. The features correspond to structural measures of the grey matter. The features correspond to sex."
   ]
  },
  {
   "cell_type": "code",
   "execution_count": 9,
   "id": "13a95ffa",
   "metadata": {},
   "outputs": [],
   "source": [
    "# Load dataset\n",
    "df_meta = pd.read_csv(\"./participants.tsv\", sep=\"\\t\", index_col=0)\n",
    "df_meta.index.name = \"subject\"\n",
    "\n",
    "df_gmd = pd.read_csv(\"./aomic_brain_data.csv\", sep=\",\", index_col=0)\n",
    "df_gmd.index.name = \"subject\"\n",
    "\n",
    "df_full = df_gmd.join(df_meta, how=\"inner\")\n",
    "df_full = df_full.dropna(axis=0, how=\"any\")\n",
    "\n",
    "# Select features and target\n",
    "X = df_full[df_gmd.columns].values\n",
    "y = df_full['sex'].values\n",
    "# Convert target variable to binary \n",
    "y = np.where(y == 'male', 1, 0)\n",
    "\n",
    "# Define reproducible cross-validation\n",
    "cv = StratifiedKFold(n_splits=5, shuffle=True, random_state=1)\n",
    "cv_splits = list(cv.split(X, y))  # Fix the splits for both cases\n",
    "\n",
    "# ========== Case 1: Data Leakage ==========\n",
    "# Feature selection on entire dataset (leakage)\n",
    "selector = SelectKBest(score_func=f_classif, k=5)\n",
    "X_selected_leak = selector.fit_transform(X, y)\n",
    "\n",
    "# Scale and reduce dimensionality on entire dataset (leakage)\n",
    "scaler = StandardScaler()\n",
    "X_scaled_leak = scaler.fit_transform(X_selected_leak)\n",
    "\n",
    "# Evaluate using fixed CV\n",
    "model = RidgeClassifierCV()\n",
    "scores_leakage = []\n",
    "for train, test in cv_splits:\n",
    "    model.fit(X_scaled_leak[train,:], y[train])\n",
    "    pred = model.predict(X_scaled_leak[test,:])\n",
    "    scores_leakage.append(accuracy_score(y[test], pred))\n",
    "    "
   ]
  },
  {
   "cell_type": "markdown",
   "id": "1f5b6b48",
   "metadata": {},
   "source": [
    "### Correct procedure:"
   ]
  },
  {
   "cell_type": "code",
   "execution_count": 10,
   "id": "f99d7828",
   "metadata": {},
   "outputs": [],
   "source": [
    "# ========== Case 2: No Leakage ==========\n",
    "# Pipeline with feature selection inside each fold\n",
    "pipeline = Pipeline([\n",
    "    ('select', SelectKBest(score_func=f_classif, k=5)),\n",
    "    ('scaler', StandardScaler()),\n",
    "    ('clf', RidgeClassifierCV())\n",
    "])\n",
    "scores_no_leakage = []\n",
    "for train, test in cv_splits:\n",
    "    pipeline.fit(X[train,:], y[train])\n",
    "    pred = pipeline.predict(X[test,:])\n",
    "    scores_no_leakage.append(accuracy_score(y[test], pred))"
   ]
  },
  {
   "cell_type": "code",
   "execution_count": 11,
   "id": "8a4817ce",
   "metadata": {},
   "outputs": [
    {
     "name": "stdout",
     "output_type": "stream",
     "text": [
      "   Fold  Accuracy with Leakage  Accuracy without Leakage  Difference\n",
      "0     1               0.818182                  0.727273    0.090909\n",
      "1     2               0.681818                  0.772727   -0.090909\n",
      "2     3               0.727273                  0.772727   -0.045455\n",
      "3     4               0.666667                  0.571429    0.095238\n",
      "4     5               0.666667                  0.619048    0.047619\n",
      "\n",
      "Mean Accuracy with Leakage:  0.7121212121212122\n",
      "Mean Accuracy without Leakage:  0.6926406926406925\n",
      "Mean Difference:  0.019480519480519477\n"
     ]
    }
   ],
   "source": [
    "# ========== Compare Results ==========\n",
    "results_df = pd.DataFrame({\n",
    "    'Fold': np.arange(1, 6),\n",
    "    'Accuracy with Leakage': scores_leakage,\n",
    "    'Accuracy without Leakage': scores_no_leakage,\n",
    "    'Difference': np.array(scores_leakage) - np.array(scores_no_leakage)\n",
    "})\n",
    "\n",
    "print(results_df)\n",
    "print(\"\\nMean Accuracy with Leakage: \", np.mean(scores_leakage))\n",
    "print(\"Mean Accuracy without Leakage: \", np.mean(scores_no_leakage))\n",
    "print(\"Mean Difference: \", np.mean(results_df['Difference']))"
   ]
  },
  {
   "cell_type": "markdown",
   "id": "619964c3",
   "metadata": {},
   "source": [
    "The approach causing leakage generally yielded better performance than the correct approach. Even though in this example the effect of leakage is not huge, in bigger and complex datasets its effect is much severe."
   ]
  },
  {
   "cell_type": "markdown",
   "id": "bf19ac4d",
   "metadata": {},
   "source": [
    "It is important to note that the results and the effect of leakage might change based on the use of different models, seeds, samples, features, etc.\n",
    "Also leakage is complex and it is often unclear where it might or might not show. However, it is always important to avoid it in order to yield valid estimations of model performance.\n"
   ]
  }
 ],
 "metadata": {
  "kernelspec": {
   "display_name": "base",
   "language": "python",
   "name": "python3"
  },
  "language_info": {
   "codemirror_mode": {
    "name": "ipython",
    "version": 3
   },
   "file_extension": ".py",
   "mimetype": "text/x-python",
   "name": "python",
   "nbconvert_exporter": "python",
   "pygments_lexer": "ipython3",
   "version": "3.12.6"
  }
 },
 "nbformat": 4,
 "nbformat_minor": 5
}
