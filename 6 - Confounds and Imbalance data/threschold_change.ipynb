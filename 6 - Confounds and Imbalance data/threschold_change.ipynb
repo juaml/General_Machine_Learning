{
 "cells": [
  {
   "cell_type": "markdown",
   "id": "c37744f6",
   "metadata": {},
   "source": [
    "# Change the threshold and show the change in matrics"
   ]
  }
 ],
 "metadata": {
  "language_info": {
   "name": "python"
  }
 },
 "nbformat": 4,
 "nbformat_minor": 5
}
